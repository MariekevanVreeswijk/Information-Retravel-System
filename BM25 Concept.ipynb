{
  "nbformat": 4,
  "nbformat_minor": 0,
  "metadata": {
    "colab": {
      "provenance": []
    },
    "kernelspec": {
      "name": "python3",
      "display_name": "Python 3"
    },
    "language_info": {
      "name": "python"
    }
  },
  "cells": [
    {
      "cell_type": "code",
      "source": [
        "import math\n",
        "from collections import defaultdict\n",
        "from collections import Counter"
      ],
      "metadata": {
        "id": "khje3GXF3EY5"
      },
      "execution_count": null,
      "outputs": []
    },
    {
      "cell_type": "code",
      "source": [
        "def create_index(documents):\n",
        "    # Create a dict to store the term freqs\n",
        "    index = defaultdict(dict)\n",
        "\n",
        "    # Create a dict to store the document lengths\n",
        "    doc_len = {}\n",
        "\n",
        "    # Create a set to store the unique terms\n",
        "    terms = set()\n",
        "\n",
        "    # Loop over the documents\n",
        "    for i, document in enumerate(documents):\n",
        "\n",
        "        # Loop over the terms in the document\n",
        "        for term in document:\n",
        "\n",
        "            # Change the term frequency\n",
        "            index[term][i] = index[term].get(i, 0) + 1\n",
        "\n",
        "            # Add the term to the set\n",
        "            terms.add(term)\n",
        "\n",
        "        # Store the length of the document\n",
        "        doc_len[i] = len(document)\n",
        "\n",
        "    # Compute the average document length\n",
        "    avgdl = sum(doc_len.values()) / len(doc_len)\n",
        "\n",
        "    # Compute the idf for each term\n",
        "    idf = {}\n",
        "\n",
        "    for term in terms:\n",
        "        df = len(index[term])\n",
        "        idf[term] = math.log(len(documents)/df)\n",
        "\n",
        "\n",
        "    return index, doc_len, avgdl, idf\n"
      ],
      "metadata": {
        "id": "vNhZmojNCAva"
      },
      "execution_count": null,
      "outputs": []
    },
    {
      "cell_type": "code",
      "source": [
        "documents = [\"just some text here text here here\", \"another text here\",\"just another here here \"]\n",
        "\n",
        "documents2 = [\n",
        "    [\"just\", \"some\", \"text\", \"here\", \"text\", \"here\", \"here\"],\n",
        "    [\"another\", \"text\", \"here\"],\n",
        "    [\"just\", \"another\", \"here\", \"here\"]\n",
        "]\n",
        "\n",
        "tf = []\n",
        "\n",
        "for doc in documents:\n",
        "  tf.append(dict(Counter(doc.split())))\n",
        "\n",
        "index, doc_len, avgdl, idf = create_index(documents2)\n"
      ],
      "metadata": {
        "id": "LzK2tYavCC_e"
      },
      "execution_count": null,
      "outputs": []
    },
    {
      "cell_type": "code",
      "source": [
        "# Print the results\n",
        "print(f\"Index: {index}\")\n",
        "print(f\"Document Lengths: {doc_len}\")\n",
        "print(f\"Average Document Length: {avgdl}\")\n",
        "print(f\"Term Frequencies per doc in order: {tf}\")\n",
        "print(f\"Inverse Document Frequencies: {idf}\")\n"
      ],
      "metadata": {
        "colab": {
          "base_uri": "https://localhost:8080/"
        },
        "id": "9pk6LaYUCETa",
        "outputId": "f948faef-096f-43e8-ffcc-650f6e11d6f9"
      },
      "execution_count": null,
      "outputs": [
        {
          "output_type": "stream",
          "name": "stdout",
          "text": [
            "Index: defaultdict(<class 'dict'>, {'just': {0: 1, 2: 1}, 'some': {0: 1}, 'text': {0: 2, 1: 1}, 'here': {0: 3, 1: 1, 2: 2}, 'another': {1: 1, 2: 1}})\n",
            "Document Lengths: {0: 7, 1: 3, 2: 4}\n",
            "Average Document Length: 4.666666666666667\n",
            "Term Frequencies per doc in order: [{'just': 1, 'some': 1, 'text': 2, 'here': 3}, {'another': 1, 'text': 1, 'here': 1}, {'just': 1, 'another': 1, 'here': 2}]\n",
            "Inverse Document Frequencies: {'here': 0.0, 'text': 0.4054651081081644, 'just': 0.4054651081081644, 'some': 1.0986122886681098, 'another': 0.4054651081081644}\n"
          ]
        }
      ]
    },
    {
      "cell_type": "code",
      "source": [
        "def tf_perc(iindex):\n",
        "    tf = []\n",
        "    for doc in iindex.values():\n",
        "        term_freq = {}\n",
        "        total_words = sum(doc.values())\n",
        "        for term in doc:\n",
        "            term_freq[term] = doc[term] / total_words\n",
        "        tf.append(term_freq)\n",
        "    return tf\n",
        "\n",
        "# Example usage\n",
        "tf2 = tf_perc(index)\n",
        "print(tf2)"
      ],
      "metadata": {
        "colab": {
          "base_uri": "https://localhost:8080/"
        },
        "id": "8VB7SH9BIwpX",
        "outputId": "2bf0eb1a-2b30-49cd-9a14-4909b9933ea6"
      },
      "execution_count": null,
      "outputs": [
        {
          "output_type": "stream",
          "name": "stdout",
          "text": [
            "[{0: 0.5, 2: 0.5}, {0: 1.0}, {0: 0.6666666666666666, 1: 0.3333333333333333}, {0: 0.5, 1: 0.16666666666666666, 2: 0.3333333333333333}, {1: 0.5, 2: 0.5}]\n"
          ]
        }
      ]
    },
    {
      "cell_type": "markdown",
      "source": [
        "Code below is inspired by: https://medium.com/@evertongomede/understanding-the-bm25-ranking-algorithm-19f6d45c6ce"
      ],
      "metadata": {
        "id": "J-02g2fbDG7R"
      }
    },
    {
      "cell_type": "code",
      "source": [
        "#BM25 ranking algorithm\n",
        "\n",
        "def bm25_ranking(tf, idf, docs, query):\n",
        "    k1 = 1.2\n",
        "    b = 0.75\n",
        "    scores = {}\n",
        "\n",
        "    for doc_id in range(len(docs)):\n",
        "        score = 0\n",
        "        doc = docs[doc_id]\n",
        "        for term in query:\n",
        "            if str(term) in list(tf[doc_id].keys()):\n",
        "\n",
        "                score += idf[term] * ((tf[doc_id][term] * (k1 + 1)) / (tf[doc_id][term] + k1 * (1 - b + b * (len(doc) / avgdl))))\n",
        "\n",
        "        scores[doc_id] = score\n",
        "    return scores\n",
        "\n",
        "# Example usage\n",
        "query = [\"just\", \"some\", \"text\", \"here\"]\n",
        "scores = bm25_ranking(tf, idf, documents2, query)\n",
        "print(scores)\n"
      ],
      "metadata": {
        "colab": {
          "base_uri": "https://localhost:8080/"
        },
        "id": "7LZglDHf7WE_",
        "outputId": "c9dbc78c-93b9-48dd-ee3f-bc70f9062238"
      },
      "execution_count": null,
      "outputs": [
        {
          "output_type": "stream",
          "name": "stdout",
          "text": [
            "{0: 1.7374478838619467, 1: 0.47484126729016973, 2: 0.43063190792177464}\n"
          ]
        }
      ]
    },
    {
      "cell_type": "code",
      "source": [
        "# NOW USE ON MS MARCO + VAL WITH GROUND TRUTH"
      ],
      "metadata": {
        "id": "u_u-ZucYxhBn"
      },
      "execution_count": null,
      "outputs": []
    }
  ]
}